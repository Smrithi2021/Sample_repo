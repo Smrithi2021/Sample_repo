{
 "cells": [
  {
   "cell_type": "markdown",
   "metadata": {},
   "source": [
    "# Basic python programs"
   ]
  },
  {
   "cell_type": "markdown",
   "metadata": {},
   "source": [
    "1. Print Hello world!:"
   ]
  },
  {
   "cell_type": "code",
   "execution_count": 1,
   "metadata": {},
   "outputs": [
    {
     "name": "stdout",
     "output_type": "stream",
     "text": [
      "Hello World!\n"
     ]
    }
   ],
   "source": [
    "print (\"Hello World!\")"
   ]
  },
  {
   "cell_type": "markdown",
   "metadata": {},
   "source": [
    "2. Declare the following variables: Int, Float, Boolean, String & print its\n",
    "   value"
   ]
  },
  {
   "cell_type": "code",
   "execution_count": 9,
   "metadata": {},
   "outputs": [
    {
     "name": "stdout",
     "output_type": "stream",
     "text": [
      "2\n",
      "3.9\n",
      "print\n"
     ]
    },
    {
     "data": {
      "text/plain": [
       "False"
      ]
     },
     "execution_count": 9,
     "metadata": {},
     "output_type": "execute_result"
    }
   ],
   "source": [
    "a = 2\n",
    "b = 3.9\n",
    "str_ = \"print\"\n",
    "print (a)\n",
    "print (b)\n",
    "print (str_)\n",
    "a==b"
   ]
  },
  {
   "cell_type": "markdown",
   "metadata": {},
   "source": [
    "3. Program to calculate the Area Of Triangle:"
   ]
  },
  {
   "cell_type": "code",
   "execution_count": 15,
   "metadata": {},
   "outputs": [
    {
     "name": "stdout",
     "output_type": "stream",
     "text": [
      "Area of triangle = 1326.0\n"
     ]
    }
   ],
   "source": [
    "base= 34\n",
    "height= 78\n",
    "area= 1/2*(base*height)\n",
    "print (\"Area of triangle = {}\".format(area))"
   ]
  },
  {
   "cell_type": "markdown",
   "metadata": {},
   "source": [
    "4. Program to calculate area of a square."
   ]
  },
  {
   "cell_type": "code",
   "execution_count": 18,
   "metadata": {},
   "outputs": [
    {
     "name": "stdout",
     "output_type": "stream",
     "text": [
      "Area of square = 25\n"
     ]
    }
   ],
   "source": [
    "side = 5\n",
    "s_area = side**2\n",
    "print (\"Area of square = {}\".format(s_area))"
   ]
  },
  {
   "cell_type": "markdown",
   "metadata": {},
   "source": [
    "5. Program to swap two variables: "
   ]
  },
  {
   "cell_type": "code",
   "execution_count": 21,
   "metadata": {},
   "outputs": [
    {
     "name": "stdout",
     "output_type": "stream",
     "text": [
      "x = 10 and y = 20\n",
      "x = 20 and y = 10\n"
     ]
    }
   ],
   "source": [
    "x=10\n",
    "y=20\n",
    "print (\"x = {} and y = {}\".format(x,y))\n",
    "temp=x\n",
    "x=y\n",
    "y=temp\n",
    "print (\"x = {} and y = {}\".format(x,y))"
   ]
  },
  {
   "cell_type": "markdown",
   "metadata": {},
   "source": [
    "6. Program is to check if a number is positive, negative or zero."
   ]
  },
  {
   "cell_type": "code",
   "execution_count": 80,
   "metadata": {},
   "outputs": [
    {
     "name": "stdout",
     "output_type": "stream",
     "text": [
      "Enter a num:99\n",
      "+ve\n"
     ]
    }
   ],
   "source": [
    "# dig=input(\"Enter number:\")\n",
    "# if dig.isdigit()|dig.replace(\".\",\"\",1).isdigit():\n",
    "#     if dig.isdigit():\n",
    "#         dig= int(dig)\n",
    "#         if dig>0:\n",
    "#                 print (\"postive\")\n",
    "#         elif dig<0:\n",
    "#                 print (\"negative\")\n",
    "#         else:\n",
    "#                 print (\"0\")\n",
    "#     elif dig.replace(\".\",\"\",1).isdigit():\n",
    "#         dig= float(dig)\n",
    "#         if dig>0:\n",
    "#                 print (\"postive\")\n",
    "#         elif dig<0:\n",
    "#                 print (\"negative\")\n",
    "#         else:\n",
    "#                 print (\"0\")\n",
    "        \n",
    "num=float(input(\"Enter a num:\"))\n",
    "if (num>0):\n",
    "    print (\"+ve\")\n",
    "elif (num<0):\n",
    "    print (\"-ve\")\n",
    "else:\n",
    "    print (\"0\")\n",
    "        "
   ]
  },
  {
   "cell_type": "markdown",
   "metadata": {},
   "source": [
    "7. Program is to check if a number is Even or Odd."
   ]
  },
  {
   "cell_type": "code",
   "execution_count": 85,
   "metadata": {},
   "outputs": [
    {
     "name": "stdout",
     "output_type": "stream",
     "text": [
      "Enter a number:9\n",
      "Odd\n"
     ]
    }
   ],
   "source": [
    "num1=float(input(\"Enter a number:\"))\n",
    "if ((num1%2)==0):\n",
    "    print (\"Even\")\n",
    "elif ((num1%2)!=0):\n",
    "    print (\"Odd\")\n",
    "else:\n",
    "    print (\"invalid num\")"
   ]
  },
  {
   "cell_type": "markdown",
   "metadata": {},
   "source": [
    "8. Program to print Odd number within a given range."
   ]
  },
  {
   "cell_type": "code",
   "execution_count": 90,
   "metadata": {},
   "outputs": [
    {
     "name": "stdout",
     "output_type": "stream",
     "text": [
      "Enter a start range:10\n",
      "Put end range:20\n",
      "11\n",
      "13\n",
      "15\n",
      "17\n",
      "19\n"
     ]
    }
   ],
   "source": [
    "start=int(input(\"Enter a start range:\"))\n",
    "end=int(input(\"Put end range:\"))\n",
    "for num in range(start,end+1):\n",
    "    if ((num%2)!=0):\n",
    "        print (num)"
   ]
  },
  {
   "cell_type": "markdown",
   "metadata": {},
   "source": [
    "9. Python program to find the factorial of a number."
   ]
  },
  {
   "cell_type": "code",
   "execution_count": 106,
   "metadata": {},
   "outputs": [
    {
     "name": "stdout",
     "output_type": "stream",
     "text": [
      "Enter a num:3\n",
      "factorial 6\n"
     ]
    }
   ],
   "source": [
    "num=int(input(\"Enter a num:\"))\n",
    "fact=1\n",
    "if (num<0):\n",
    "    print (\"Factorial not applicable for negative numericals\")\n",
    "elif (num==0):\n",
    "    print (\"Factorial of 0 is 1\")\n",
    "else:\n",
    "    while (num>0):\n",
    "        fact=fact*num\n",
    "        num-=1\n",
    "    print (\"factorial {}\".format(fact))"
   ]
  },
  {
   "cell_type": "markdown",
   "metadata": {},
   "source": [
    "10.Program to reverse a given number."
   ]
  },
  {
   "cell_type": "code",
   "execution_count": 109,
   "metadata": {},
   "outputs": [
    {
     "name": "stdout",
     "output_type": "stream",
     "text": [
      "Enter a num:89\n",
      "98\n"
     ]
    }
   ],
   "source": [
    "num7=(input(\"Enter a num:\"))\n",
    "num8= num7[::-1]\n",
    "print(num8)"
   ]
  },
  {
   "cell_type": "markdown",
   "metadata": {},
   "source": [
    "11.Program to find out the sum of N Natural numbers."
   ]
  },
  {
   "cell_type": "code",
   "execution_count": 113,
   "metadata": {},
   "outputs": [
    {
     "name": "stdout",
     "output_type": "stream",
     "text": [
      "Enter a natural number: 2\n",
      "sum 3\n"
     ]
    }
   ],
   "source": [
    "N=int(input(\"Enter a natural number: \"))\n",
    "S=0\n",
    "while (N>0):\n",
    "    S=S+N\n",
    "    N=N-1\n",
    "print (\"sum\",S)\n",
    "\n",
    "    "
   ]
  },
  {
   "cell_type": "code",
   "execution_count": null,
   "metadata": {},
   "outputs": [],
   "source": []
  },
  {
   "cell_type": "markdown",
   "metadata": {},
   "source": [
    "# Strings"
   ]
  },
  {
   "cell_type": "markdown",
   "metadata": {},
   "source": [
    "1. Program to reverse a string."
   ]
  },
  {
   "cell_type": "code",
   "execution_count": 15,
   "metadata": {},
   "outputs": [
    {
     "name": "stdout",
     "output_type": "stream",
     "text": [
      "!dlroW olleH\n"
     ]
    }
   ],
   "source": [
    "text = \"Hello World!\" [-1:-13:-1]\n",
    "print (text)"
   ]
  },
  {
   "cell_type": "markdown",
   "metadata": {},
   "source": [
    "2. Program to check if string is palindrome or not: "
   ]
  },
  {
   "cell_type": "code",
   "execution_count": 43,
   "metadata": {},
   "outputs": [
    {
     "name": "stdout",
     "output_type": "stream",
     "text": [
      "Enter a string:hindi\n",
      "Not pallindrome\n"
     ]
    }
   ],
   "source": [
    "string= input(\"Enter a string:\")\n",
    "if (string[::1]==string[::-1]):\n",
    "    print (\"Pallindrome\")\n",
    "else:\n",
    "    print (\"Not pallindrome\")"
   ]
  },
  {
   "cell_type": "markdown",
   "metadata": {},
   "source": [
    "3. Python Program to Replace all Occurrences of ‘a’ with $ in a String from\n",
    "user:"
   ]
  },
  {
   "cell_type": "code",
   "execution_count": 44,
   "metadata": {},
   "outputs": [
    {
     "name": "stdout",
     "output_type": "stream",
     "text": [
      "Enter string:alfaz\n",
      "$lf$z\n"
     ]
    }
   ],
   "source": [
    "str_=input (\"Enter string:\")\n",
    "str_1=str_.replace('a','$')\n",
    "print (str_1)\n"
   ]
  },
  {
   "cell_type": "markdown",
   "metadata": {},
   "source": [
    "4. Python Program to Count the Number of Vowels in a String Input Two\n",
    "Strings and Display the Larger String without Using Built-in Functions:"
   ]
  },
  {
   "cell_type": "code",
   "execution_count": 59,
   "metadata": {},
   "outputs": [
    {
     "name": "stdout",
     "output_type": "stream",
     "text": [
      "Enter string 1:i\n",
      "Enter string 2:oo\n",
      "No. of vowels in string 1 is 1\n",
      "No. of vowels in string 2 is 2\n",
      "No: of vowels in oo is larger\n"
     ]
    }
   ],
   "source": [
    "str1=input('Enter string 1:')\n",
    "str2=input('Enter string 2:')\n",
    "count1=0\n",
    "count2=0\n",
    "for i in str1:\n",
    "    if (i=='a'or i=='e'or i=='i'or i=='o'or i=='u'or i=='A'or i=='E'or i=='I'or i=='O'or i=='U'):\n",
    "        count1+=1\n",
    "print (\"No. of vowels in string 1 is {}\".format(count1))\n",
    "for i in str2:\n",
    "    if (i=='a'or i=='e'or i=='i'or i=='o'or i=='u'or i=='A'or i=='E'or i=='I'or i=='O'or i=='U'):\n",
    "        count2+=1\n",
    "print (\"No. of vowels in string 2 is {}\".format(count2))\n",
    "if (count1>count2):\n",
    "    print (\"No: of vowels in {} is larger\".format(str1))\n",
    "elif (count2>count1):\n",
    "    print (\"No: of vowels in {} is larger\".format(str2))\n",
    "else:\n",
    "    print (\"Both strings have same num of vowels\")\n",
    "\n"
   ]
  },
  {
   "cell_type": "markdown",
   "metadata": {},
   "source": [
    "5. Count the number of digits & letter in a string:"
   ]
  },
  {
   "cell_type": "code",
   "execution_count": 62,
   "metadata": {},
   "outputs": [
    {
     "name": "stdout",
     "output_type": "stream",
     "text": [
      "Enter a string: riko990\n",
      "The number of digits in string is 3 and num of alphabets is 4\n"
     ]
    }
   ],
   "source": [
    "str3=input(\"Enter a string: \")\n",
    "count=0\n",
    "count4=0\n",
    "for i in str3:\n",
    "    if i.isdigit()==True:\n",
    "        count+=1\n",
    "    else:\n",
    "        count4+=1\n",
    "print (\"The number of digits in string is {} and num of alphabets is {}\".format(count,count4))\n",
    "        \n"
   ]
  },
  {
   "cell_type": "markdown",
   "metadata": {},
   "source": [
    "6. Count Number of Lowercase Characters in a String:"
   ]
  },
  {
   "cell_type": "code",
   "execution_count": 63,
   "metadata": {},
   "outputs": [
    {
     "name": "stdout",
     "output_type": "stream",
     "text": [
      "Enter a string: ThhUPPP\n",
      "No: of lower case letters is 2\n"
     ]
    }
   ],
   "source": [
    "str4=input(\"Enter a string: \")\n",
    "count5=0\n",
    "for i in str4:\n",
    "    if i.islower()==True:\n",
    "        count5+=1\n",
    "print (\"No: of lower case letters is {}\".format(count5))"
   ]
  },
  {
   "cell_type": "markdown",
   "metadata": {},
   "source": [
    "7. Program to check if a Substring is Present in a Given String:"
   ]
  },
  {
   "cell_type": "code",
   "execution_count": 76,
   "metadata": {},
   "outputs": [
    {
     "name": "stdout",
     "output_type": "stream",
     "text": [
      "Enter string:bookl\n",
      "Enter substring:okl\n",
      "Substring is present in string\n"
     ]
    }
   ],
   "source": [
    "Str=input (\"Enter string:\")\n",
    "substr=input (\"Enter substring:\")\n",
    "county=0\n",
    "for i in Str:\n",
    "    if substr in Str:\n",
    "        county+=1\n",
    "    else:\n",
    "        break\n",
    "if (county>1):\n",
    "    print (\"Substring is present in string\")\n",
    "else:\n",
    "    print (\"Substring is not present in string\")\n",
    "    \n"
   ]
  },
  {
   "cell_type": "markdown",
   "metadata": {},
   "source": []
  },
  {
   "cell_type": "markdown",
   "metadata": {},
   "source": [
    "# Conditional statements"
   ]
  },
  {
   "cell_type": "code",
   "execution_count": null,
   "metadata": {},
   "outputs": [],
   "source": [
    "1. W. A P. which takes one number from 0 to 9 from the user and prints it\n",
    "in the word. And if the word is not from 0 to 9 then it should print that\n",
    "number is outside of the range and program should exit.\n",
    " For example:-\n",
    " input = 1\n",
    " output = one"
   ]
  },
  {
   "cell_type": "code",
   "execution_count": 140,
   "metadata": {},
   "outputs": [
    {
     "name": "stdout",
     "output_type": "stream",
     "text": [
      "Enter a number from 0 - 9: 8\n",
      "eight\n"
     ]
    }
   ],
   "source": [
    "no_1=int(input(\"Enter a number from 0 - 9: \"))\n",
    "#print (no_1)\n",
    "# if (((no_1>=0) and (no_1<=9))==True):\n",
    "if no_1==0:\n",
    "        print (\"zero\")\n",
    "elif no_1==1:\n",
    "        print (\"one\")\n",
    "elif no_1==2:\n",
    "        print (\"two\")\n",
    "elif no_1==3:\n",
    "        print (\"three\")\n",
    "elif no_1==4:\n",
    "        print (\"four\")\n",
    "elif no_1==5:\n",
    "        print (\"five\")\n",
    "elif no_1==6:\n",
    "        print (\"six\")\n",
    "elif no_1==7:\n",
    "         print (\"seven\")\n",
    "elif no_1==8:\n",
    "         print (\"eight\")\n",
    "elif no_1==9:\n",
    "         print (\"nine\")\n",
    "else:\n",
    "    pass\n",
    "# if I put break here it was not working. But pass works,why?\n",
    "  \n",
    "    "
   ]
  },
  {
   "cell_type": "code",
   "execution_count": null,
   "metadata": {},
   "outputs": [],
   "source": [
    "2. W. A P. to implement calculator but the operation to be done and two\n",
    "numbers will be taken as input from user:- Operation console should\n",
    "show below:-\n",
    "    Please select any one operation from below:-\n",
    "1. To add enter 1\n",
    "2. to subtract enter 2\n",
    "3. To multiply enter 3\n",
    "4. To divide enter 4\n",
    "5. To divide and find quotient enter 5\n",
    "6. To divide and find remainder enter 6\n",
    "7. To find num1 to the power of num2 enter 7\n",
    "8. To Come out of the program enter 8\n",
    "\n",
    "    "
   ]
  },
  {
   "cell_type": "code",
   "execution_count": 148,
   "metadata": {},
   "outputs": [
    {
     "name": "stdout",
     "output_type": "stream",
     "text": [
      "Enter num1: 7\n",
      "Enter num2: 8\n",
      "\n",
      "  Please select any one operation from below:-\n",
      "1. To add enter 1\n",
      "2. to subtract enter 2\n",
      "3. To multiply enter 3\n",
      "4. To divide enter 4\n",
      "5. To divide and find quotient enter 5\n",
      "6. To divide and find remainder enter 6\n",
      "7. To find num1 to the power of num2 enter 7\n",
      "8. To Come out of the program enter 8\n",
      "Select operation number:8\n"
     ]
    }
   ],
   "source": [
    "n_1=float(input(\"Enter num1: \"))\n",
    "n_2=float(input(\"Enter num2: \"))\n",
    "print (\"\"\"\n",
    "  Please select any one operation from below:-\n",
    "1. To add enter 1\n",
    "2. to subtract enter 2\n",
    "3. To multiply enter 3\n",
    "4. To divide enter 4\n",
    "5. To divide and find quotient enter 5\n",
    "6. To divide and find remainder enter 6\n",
    "7. To find num1 to the power of num2 enter 7\n",
    "8. To Come out of the program enter 8\"\"\")\n",
    "op=int(input(\"Select operation number:\"))\n",
    "if op==1:\n",
    "    ans=n_1+n_2\n",
    "    print (ans)\n",
    "elif op==2:\n",
    "    ans=n_1-n_2\n",
    "    print (ans)\n",
    "elif op==3:\n",
    "    ans=n_1*n_2\n",
    "    print (ans)\n",
    "elif op==4:\n",
    "    ans=n_1/n_2\n",
    "    print (ans)\n",
    "elif op==5:\n",
    "    ans=n_1//n_2\n",
    "    print (ans)\n",
    "elif op==6:\n",
    "    ans=n_1%n_2\n",
    "    print (ans)\n",
    "elif op==7:\n",
    "    ans=n_1**n_2\n",
    "    print (ans)\n",
    "else:\n",
    "    pass"
   ]
  },
  {
   "cell_type": "markdown",
   "metadata": {},
   "source": [
    "3. W A P to check whether a year entered by user is an leap year or not?\n",
    " Check with below input:-\n",
    "i. leap year:- 2012, 1968, 2004, 1200, 1600,2400\n",
    "ii. Non-leap year:- 1971, 2006, 1700,1800,1900\n",
    "\n",
    "2004 /4 but not /400 and not/100\n",
    "2400 /4 and /400 and /100\n",
    "1700/4 and /100 not /400\n",
    "2006 not/4 not/400 and not/100\n"
   ]
  },
  {
   "cell_type": "code",
   "execution_count": 156,
   "metadata": {},
   "outputs": [
    {
     "name": "stdout",
     "output_type": "stream",
     "text": [
      "Enter a year: 2006\n",
      "Not a leap year\n"
     ]
    }
   ],
   "source": [
    "yr=int(input (\"Enter a year: \"))\n",
    "\n",
    "if (((yr%4)!=0) and ((yr%400)!=0) and ((yr%100)!=0)):\n",
    "    print (\"Not a leap year\")\n",
    "elif (((yr%4)==0) and ((yr%400)!=0) and ((yr%100)!=0)):\n",
    "    print (\"Leap year\")\n",
    "elif (((yr%4)==0) and ((yr%400)==0) and ((yr%100)==0)):\n",
    "    print (\"Leap year\")\n",
    "elif (((yr%4)==0) and ((yr%400)!=0) and ((yr%100)==0)):\n",
    "    print (\"Not a leap year\")"
   ]
  },
  {
   "cell_type": "markdown",
   "metadata": {},
   "source": [
    "4. W A P which takes one number from the user and checks whether it is\n",
    "an even or odd number? If it even then prints number is even number\n",
    "else prints that number is odd number"
   ]
  },
  {
   "cell_type": "code",
   "execution_count": 163,
   "metadata": {},
   "outputs": [
    {
     "name": "stdout",
     "output_type": "stream",
     "text": [
      "Enter number: -8\n",
      "even\n"
     ]
    }
   ],
   "source": [
    "h=float(input(\"Enter number: \"))\n",
    "# print (type(h))\n",
    "if (h%2==0):\n",
    "    print (\"even\")\n",
    "elif (h%2!=0):\n",
    "    print (\"odd\")\n",
    "else:\n",
    "    print (\"invalid\")"
   ]
  },
  {
   "cell_type": "markdown",
   "metadata": {},
   "source": [
    "5. W A P which takes two numbers from the user and prints below output:-\n",
    " num1 is greater than num2 if num1 is greater than num2\n",
    " num1 is smaller than num2 if num1 is smaller than num2\n",
    " num1 is equal to num2 if num1 and num2 are equal\n",
    " Note: -\n",
    "1. Do this problem using if - else\n",
    "2. Do this using ternary operator"
   ]
  },
  {
   "cell_type": "code",
   "execution_count": 168,
   "metadata": {},
   "outputs": [
    {
     "name": "stdout",
     "output_type": "stream",
     "text": [
      "Enter num1:-77\n",
      "Enter num2: 89.4\n",
      "-77.0 is smaller than 89.4\n"
     ]
    }
   ],
   "source": [
    "v1=float(input(\"Enter num1:\"))\n",
    "v2=float(input(\"Enter num2: \"))\n",
    "if v1>v2:\n",
    "    print(\"{} is greater than {}\".format(v1,v2))\n",
    "elif v1<v2:\n",
    "    print(\"{} is smaller than {}\".format(v1,v2))\n",
    "else:\n",
    "    print(\"{} is equal to {}\".format(v1,v2))\n",
    "\n"
   ]
  },
  {
   "cell_type": "code",
   "execution_count": 177,
   "metadata": {},
   "outputs": [
    {
     "name": "stdout",
     "output_type": "stream",
     "text": [
      "Enter num1:9\n",
      "Enter num2: -8\n",
      "9.0 is bigger than -8.0\n"
     ]
    }
   ],
   "source": [
    "v11=float(input(\"Enter num1:\"))\n",
    "v22=float(input(\"Enter num2: \"))\n",
    "if (((v11>v22)==True) and ((v11<v22)==False) and (v11!=v22)):\n",
    "    print (\"{} is bigger than {}\".format(v11,v22))\n",
    "elif (((v11<v22)==True) and ((v11>v22)==False) and (v11!=v22)):\n",
    "    print (\"{} is smaller than {}\".format(v11,v22))\n",
    "elif v11==v22:\n",
    "    print (\"{}={}\".format(v11,v22))"
   ]
  },
  {
   "cell_type": "markdown",
   "metadata": {},
   "source": [
    "6. W A P which takes three numbers from the user and prints below\n",
    "output:-\n",
    " num1 is greater than num2 and num3 if num1 is greater than\n",
    "num2 and num3\n",
    " num2 is greater than num1 and num3 if num2 is greater than\n",
    "num1 and num3\n",
    " num3 is greater than num1 and num2 if num3 is greater than\n",
    "num1 and num2\n",
    " Note:-\n",
    "i. 1. Do this problem using if - elif - else\n",
    "ii. 2. Do this using ternary operator"
   ]
  },
  {
   "cell_type": "code",
   "execution_count": 178,
   "metadata": {},
   "outputs": [
    {
     "name": "stdout",
     "output_type": "stream",
     "text": [
      "Enter number 1:4\n",
      "Enter number 2:5\n",
      "Enter number 3:6\n",
      "6.0 is bigger than 4.0 and 5.0\n"
     ]
    }
   ],
   "source": [
    "x1=float(input(\"Enter number 1:\"))\n",
    "x2=float(input(\"Enter number 2:\"))\n",
    "x3=float(input(\"Enter number 3:\"))\n",
    "\n",
    "if ((x1>x2) and (x1>x3)):\n",
    "    print (\"{} is bigger than {} and {}\".format(x1,x2,x3))\n",
    "elif ((x2>x1) and (x2>x3)):\n",
    "    print (\"{} is bigger than {} and {}\".format(x2,x1,x3))\n",
    "elif ((x3>x1) and (x3>x2)):\n",
    "    print (\"{} is bigger than {} and {}\".format(x3,x1,x2))\n",
    "\n"
   ]
  },
  {
   "cell_type": "markdown",
   "metadata": {},
   "source": [
    "# Loops - for loop, while loop"
   ]
  },
  {
   "cell_type": "markdown",
   "metadata": {},
   "source": [
    "7. Write a Python program to find the length of the my_str using loop\n",
    " Input:- 'Write a Python program to find the length of the my_str'\n",
    " Output:- 55\n",
    "\n"
   ]
  },
  {
   "cell_type": "code",
   "execution_count": 180,
   "metadata": {},
   "outputs": [
    {
     "name": "stdout",
     "output_type": "stream",
     "text": [
      "Enter string: Write a Python program to find the length of the my_str\n",
      "55\n"
     ]
    }
   ],
   "source": [
    "line = input(\"Enter string: \")\n",
    "counter=0\n",
    "for i in line:\n",
    "    counter+=1\n",
    "print (counter)"
   ]
  },
  {
   "cell_type": "markdown",
   "metadata": {},
   "source": [
    "8. Write a Python program to find the total number of times letter 'p' is\n",
    "appeared in the below string using loop:-\n",
    " Input:- 'peter piper picked a peck of pickled peppers.\\n'\n",
    " Output:- 9\n"
   ]
  },
  {
   "cell_type": "code",
   "execution_count": 181,
   "metadata": {},
   "outputs": [
    {
     "name": "stdout",
     "output_type": "stream",
     "text": [
      "Enter string: peter piper picked a peck of pickled peppers.\\n\n",
      "9\n"
     ]
    }
   ],
   "source": [
    "line_ = input(\"Enter string: \")\n",
    "counter=0\n",
    "for i in line_:\n",
    "    if i==\"p\":\n",
    "        counter+=1\n",
    "print (counter)"
   ]
  },
  {
   "cell_type": "markdown",
   "metadata": {},
   "source": [
    "9. Q. Write a Python Program, to print all the indexes of all occurrences of\n",
    "letter 'p' appeared in the string using loop:-\n",
    " Input: - 'peter piper picked a peck of pickled peppers.'\n",
    " Output:-\n",
    " 0\n",
    " 6\n",
    " 8\n",
    " 12\n",
    " 21\n",
    " 29\n",
    " 37\n",
    " 39\n",
    " 40"
   ]
  },
  {
   "cell_type": "code",
   "execution_count": 228,
   "metadata": {},
   "outputs": [
    {
     "name": "stdout",
     "output_type": "stream",
     "text": [
      "Enter string: peter piper picked a peck of pickled peppers.\n",
      "0\n",
      "6\n",
      "8\n",
      "12\n",
      "21\n",
      "29\n",
      "37\n",
      "39\n",
      "40\n"
     ]
    }
   ],
   "source": [
    "line = input(\"Enter string: \")\n",
    "ss= \"p\"\n",
    "p=(line.find(\"p\"))\n",
    "if p==-1:\n",
    "    print (\"Substring not present\")\n",
    "while (p!=-1):\n",
    "    print (\"{}\".format(p))\n",
    "    p=line.find(\"p\",p+1,len(line))"
   ]
  },
  {
   "cell_type": "markdown",
   "metadata": {},
   "source": [
    "10. Write a python program to find below output using loop:-\n",
    " Input: - 'peter piper picked a peck of pickled peppers.'\n",
    " Output:- ['peter', 'piper', 'picked', 'a', 'peck', 'of', 'pickled',\n",
    "'peppers']\n"
   ]
  },
  {
   "cell_type": "code",
   "execution_count": 239,
   "metadata": {},
   "outputs": [
    {
     "name": "stdout",
     "output_type": "stream",
     "text": [
      "['peter', 'piper', 'picked', 'a', 'peck', 'of', 'pickled', 'peppers.']\n"
     ]
    }
   ],
   "source": [
    "o='peter piper picked a peck of pickled peppers.'\n",
    "word=o.split()\n",
    "print (word)"
   ]
  },
  {
   "cell_type": "markdown",
   "metadata": {},
   "source": [
    "11. Write a python program to find below output using loop:-\n",
    " Input: - 'peter piper picked a peck of pickled peppers.'\n",
    " Output:- 'peppers pickled of peck a picked piper peter'"
   ]
  },
  {
   "cell_type": "code",
   "execution_count": null,
   "metadata": {},
   "outputs": [],
   "source": []
  },
  {
   "cell_type": "code",
   "execution_count": null,
   "metadata": {},
   "outputs": [],
   "source": []
  },
  {
   "cell_type": "markdown",
   "metadata": {},
   "source": [
    "13.Write a python program to find below output using loop:-\n",
    " Input: - 'peter piper picked a peck of pickled peppers.'\n",
    " Output:- 'retep repip dekcip a kcep fo delkcip sreppep'"
   ]
  },
  {
   "cell_type": "code",
   "execution_count": 238,
   "metadata": {},
   "outputs": [
    {
     "name": "stdout",
     "output_type": "stream",
     "text": [
      "['peter', 'piper', 'picked', 'a', 'peck', 'of', 'pickled', 'peppers.']\n",
      "['retep', 'repip', 'dekcip', 'a', 'kcep', 'fo', 'delkcip', '.sreppep']\n",
      "retep repip dekcip a kcep fo delkcip .sreppep\n"
     ]
    }
   ],
   "source": [
    "b='peter piper picked a peck of pickled peppers.'\n",
    "wrd=b.split()\n",
    "print (wrd)\n",
    "reverse=[]\n",
    "for i in wrd:\n",
    "    reverse.append(i[::-1])\n",
    "print (reverse)\n",
    "# string.join(iterable)\n",
    "sen=\" \".join(reverse)\n",
    "print (sen)"
   ]
  },
  {
   "cell_type": "markdown",
   "metadata": {},
   "source": [
    "12. Write a python program to find below output using loop:-\n",
    " Input: - 'peter piper picked a peck of pickled peppers.'\n",
    " Output:- '.sreppep delkcip fo kcep a dekcip repip retep'"
   ]
  },
  {
   "cell_type": "code",
   "execution_count": 232,
   "metadata": {},
   "outputs": [
    {
     "name": "stdout",
     "output_type": "stream",
     "text": [
      ".sreppep delkcip fo kcep a dekcip repip retep"
     ]
    }
   ],
   "source": [
    "a='peter piper picked a peck of pickled peppers.'\n",
    "for i in range((len(a)-1),-1,-1):\n",
    "    print (a[i],end=\"\")"
   ]
  },
  {
   "cell_type": "code",
   "execution_count": null,
   "metadata": {},
   "outputs": [],
   "source": []
  },
  {
   "cell_type": "code",
   "execution_count": null,
   "metadata": {},
   "outputs": [],
   "source": []
  }
 ],
 "metadata": {
  "kernelspec": {
   "display_name": "Python 3",
   "language": "python",
   "name": "python3"
  },
  "language_info": {
   "codemirror_mode": {
    "name": "ipython",
    "version": 3
   },
   "file_extension": ".py",
   "mimetype": "text/x-python",
   "name": "python",
   "nbconvert_exporter": "python",
   "pygments_lexer": "ipython3",
   "version": "3.8.5"
  }
 },
 "nbformat": 4,
 "nbformat_minor": 4
}
